{
  "nbformat": 4,
  "nbformat_minor": 0,
  "metadata": {
    "colab": {
      "name": "assignment0 file handing.ipynb",
      "provenance": [],
      "authorship_tag": "ABX9TyNOxR8l9tpD3ZaWUdlzrpGa",
      "include_colab_link": true
    },
    "kernelspec": {
      "name": "python3",
      "display_name": "Python 3"
    },
    "language_info": {
      "name": "python"
    }
  },
  "cells": [
    {
      "cell_type": "markdown",
      "metadata": {
        "id": "view-in-github",
        "colab_type": "text"
      },
      "source": [
        "<a href=\"https://colab.research.google.com/github/sahilnarkar155/guvi-task/blob/main/assignment0_file_handing.ipynb\" target=\"_parent\"><img src=\"https://colab.research.google.com/assets/colab-badge.svg\" alt=\"Open In Colab\"/></a>"
      ]
    },
    {
      "cell_type": "code",
      "source": [
        "pip install bcrypt"
      ],
      "metadata": {
        "colab": {
          "base_uri": "https://localhost:8080/"
        },
        "id": "YuNilRqUHy7T",
        "outputId": "0ee13783-b799-4d78-dae3-de892cd6ce43"
      },
      "execution_count": null,
      "outputs": [
        {
          "output_type": "stream",
          "name": "stdout",
          "text": [
            "Requirement already satisfied: bcrypt in /usr/local/lib/python3.7/dist-packages (3.2.0)\n",
            "Requirement already satisfied: cffi>=1.1 in /usr/local/lib/python3.7/dist-packages (from bcrypt) (1.15.0)\n",
            "Requirement already satisfied: six>=1.4.1 in /usr/local/lib/python3.7/dist-packages (from bcrypt) (1.15.0)\n",
            "Requirement already satisfied: pycparser in /usr/local/lib/python3.7/dist-packages (from cffi>=1.1->bcrypt) (2.21)\n"
          ]
        }
      ]
    },
    {
      "cell_type": "code",
      "source": [
        ""
      ],
      "metadata": {
        "id": "6rFUl3awIWfR"
      },
      "execution_count": null,
      "outputs": []
    },
    {
      "cell_type": "code",
      "execution_count": null,
      "metadata": {
        "colab": {
          "base_uri": "https://localhost:8080/"
        },
        "id": "xx1PDDeLoY4f",
        "outputId": "ad1e3ec7-f968-469a-c702-2edf90cdfa31"
      },
      "outputs": [
        {
          "output_type": "stream",
          "name": "stdout",
          "text": [
            "Welcome, please select an option\n",
            "Login | Signup:Login\n",
            "Enter your username:sahil155\n",
            "Enter your Password:aaaaaaa\n",
            "Password or username doesn't exist\n"
          ]
        }
      ],
      "source": [
        "import bcrypt\n",
        "def welcome():\n",
        "\tprint(\"Welcome to your dashboard\")\n",
        "\n",
        "def gainAccess(Username=None, Password=None):\n",
        "    Username = input(\"Enter your username:\")\n",
        "    Password = input(\"Enter your Password:\")\n",
        "    \n",
        "    if not len(Username or Password) < 1:\n",
        "        if True:\n",
        "            db = open(\"/content/drive/MyDrive/Colab Notebooks/user_detail.txt\", \"r\")\n",
        "            d = []\n",
        "            f = []\n",
        "            for i in db:\n",
        "                a,b = i.split(\",\")\n",
        "                b = b.strip()\n",
        "                c = a,b\n",
        "                d.append(a)\n",
        "                f.append(b)\n",
        "                data = dict(zip(d, f))\n",
        "            try:\n",
        "                if Username in data:\n",
        "                    hashed = data[Username].strip('b')\n",
        "                    hashed = hashed.replace(\"'\", \"\")\n",
        "                    hashed = hashed.encode('utf-8')\n",
        "                    \n",
        "                    try:\n",
        "                        if bcrypt.checkpw(Password.encode(), hashed):\n",
        "                        \n",
        "                            print(\"Login success!\")\n",
        "                            print(\"Hi\", Username)\n",
        "                            welcome()\n",
        "                        else:\n",
        "                            print(\"Wrong password\")\n",
        "                        \n",
        "                    except:\n",
        "                        print(\"Incorrect passwords or username\")\n",
        "                else:\n",
        "                    print(\"Username doesn't exist\")\n",
        "            except:\n",
        "                print(\"Password or username doesn't exist\")\n",
        "        else:\n",
        "            print(\"Error logging into the system\")\n",
        "            \n",
        "    else:\n",
        "        print(\"Please attempt login again\")\n",
        "        gainAccess()\n",
        "\t\t\n",
        "\t\t# b = b.strip()\n",
        "# accessDb()\n",
        "\n",
        "def register(Username=None, Password1=None, Password2=None):\n",
        "    Username = input(\"Enter a username:\")\n",
        "    Password1 = input(\"Create password:\")\n",
        "    Password2 = input(\"Confirm Password:\")\n",
        "    db = open(\"/content/drive/MyDrive/Colab Notebooks/user_detail.txt\", \"r\")\n",
        "    d = []\n",
        "    for i in db:\n",
        "        a,b = i.split(\",\")\n",
        "        b = b.strip()\n",
        "        c = a,b\n",
        "        d.append(a)\n",
        "    if not len(Password1)<=8:\n",
        "        db = open(\"/content/drive/MyDrive/Colab Notebooks/user_detail.txt\", \"r\")\n",
        "        if not Username ==None:\n",
        "            if len(Username) <1:\n",
        "                print(\"Please provide a username\")\n",
        "                register()\n",
        "            elif Username in d:\n",
        "                print(\"Username exists\")\n",
        "                register()\t\t\n",
        "            else:\n",
        "                if Password1 == Password2:\n",
        "                    Password1 = Password1.encode('utf-8')\n",
        "                    Password1 = bcrypt.hashpw(Password1, bcrypt.gensalt())\n",
        "                                       \n",
        "                    db = open(\"/content/drive/MyDrive/Colab Notebooks/user_detail.txt\", \"a\")\n",
        "                    db.write(Username+\", \"+str(Password1)+\"\\n\")\n",
        "                    print(\"User created successfully!\")\n",
        "                    print(\"Please login to proceed:\")\n",
        "\n",
        "\t\t\t\t\t\n",
        "\t\t\t\t\t# print(texts)\n",
        "                else:\n",
        "                    print(\"Passwords do not match\")\n",
        "                    register()\n",
        "    else:\n",
        "        print(\"Password too short\")\n",
        "\n",
        "\n",
        "\n",
        "def home(option=None):\n",
        "\tprint(\"Welcome, please select an option\")\n",
        "\toption = input(\"Login | Signup:\")\n",
        "\tif option == \"Login\":\n",
        "\t\tgainAccess()\n",
        "\telif option == \"Signup\":\n",
        "\t\tregister()\n",
        "\telse:\n",
        "\t\tprint(\"Please enter a valid parameter, this is case-sensitive\")\n",
        "\n",
        "\n",
        "\n",
        "\n",
        "# register(Username, Password1, Password2)\n",
        "# gainAccess(Username, Password1)\n",
        "home()\n"
      ]
    },
    {
      "cell_type": "code",
      "source": [
        ""
      ],
      "metadata": {
        "id": "-QMERfp7rQT-"
      },
      "execution_count": null,
      "outputs": []
    }
  ]
}